{
  "nbformat": 4,
  "nbformat_minor": 0,
  "metadata": {
    "colab": {
      "provenance": []
    },
    "kernelspec": {
      "name": "python3",
      "display_name": "Python 3"
    },
    "language_info": {
      "name": "python"
    }
  },
  "cells": [
    {
      "cell_type": "code",
      "execution_count": 1,
      "metadata": {
        "colab": {
          "base_uri": "https://localhost:8080/"
        },
        "id": "bWMzuiDpz78T",
        "outputId": "4225f0da-0c30-4152-8af0-3ca88d1de180"
      },
      "outputs": [
        {
          "output_type": "stream",
          "name": "stdout",
          "text": [
            "Hi! I'm your rule-based chatbot. How can I assist you today?\n",
            "You: hello\n",
            "Chatbot: Hello there! How can I help?\n",
            "You: tell me something about yourself \n",
            "Chatbot: Sorry, I don't understand that. Can you please rephrase?\n",
            "You: bye\n",
            "Chatbot: Goodbye! Have a great day!\n"
          ]
        }
      ],
      "source": [
        "def chatbot():\n",
        "    print(\"Hi! I'm your rule-based chatbot. How can I assist you today?\")\n",
        "    while True:\n",
        "        user_input = input(\"You: \").lower()\n",
        "\n",
        "\n",
        "        if user_input == 'hello' or user_input == 'hi':\n",
        "            print(\"Chatbot: Hello there! How can I help?\")\n",
        "        elif 'how are you' in user_input:\n",
        "            print(\"Chatbot: I'm just a bot, but thanks for asking!\")\n",
        "        elif 'bye' in user_input:\n",
        "            print(\"Chatbot: Goodbye! Have a great day!\")\n",
        "            break\n",
        "        else:\n",
        "            print(\"Chatbot: Sorry, I don't understand that. Can you please rephrase?\")\n",
        "\n",
        "if __name__ == '__main__':\n",
        "    chatbot()\n"
      ]
    }
  ]
}